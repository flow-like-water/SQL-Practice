{
 "cells": [
  {
   "cell_type": "markdown",
   "metadata": {
    "dc": {
     "key": "3"
    },
    "deletable": false,
    "editable": false,
    "run_control": {
     "frozen": true
    },
    "tags": [
     "context"
    ]
   },
   "source": [
    "## 1. The oldest business in the world\n",
    "<p><img src=\"https://assets.datacamp.com/production/repositories/5851/datasets/7dded924c6dc418d4a828f2f4daba99953c27a5a/400px-Eingang_zum_St._Peter_Stiftskeller.jpg\" alt=\"The entrance to St. Peter Stiftskeller, a restaurant in Saltzburg, Austria. The sign over the entrance shows &quot;803&quot; - the year the business opened.\"></p>\n",
    "<p><em>Image: St. Peter Stiftskeller, founded 803. Credit: <a href=\"https://commons.wikimedia.org/wiki/File:Eingang_zum_St._Peter_Stiftskeller.jpg\">Pakeha</a>.</em></p>\n",
    "<p>An important part of business is planning for the future and ensuring that the company survives changing market conditions. Some businesses do this really well and last for hundreds of years.</p>\n",
    "<p>BusinessFinancing.co.uk <a href=\"https://businessfinancing.co.uk/the-oldest-company-in-almost-every-country\">researched</a> the oldest company that is still in business in (almost) every country and compiled the results into a dataset. In this project, you'll explore that dataset to see what they found.</p>\n",
    "<p>The database contains three tables.</p>\n",
    "<h3 id=\"categories\"><code>categories</code></h3>\n",
    "<table>\n",
    "<thead>\n",
    "<tr>\n",
    "<th style=\"text-align:left;\">column</th>\n",
    "<th>type</th>\n",
    "<th>meaning</th>\n",
    "</tr>\n",
    "</thead>\n",
    "<tbody>\n",
    "<tr>\n",
    "<td style=\"text-align:left;\"><code>category_code</code></td>\n",
    "<td>varchar</td>\n",
    "<td>Code for the category of the business.</td>\n",
    "</tr>\n",
    "<tr>\n",
    "<td style=\"text-align:left;\"><code>category</code></td>\n",
    "<td>varchar</td>\n",
    "<td>Description of the business category.</td>\n",
    "</tr>\n",
    "</tbody>\n",
    "</table>\n",
    "<h3 id=\"countries\"><code>countries</code></h3>\n",
    "<table>\n",
    "<thead>\n",
    "<tr>\n",
    "<th style=\"text-align:left;\">column</th>\n",
    "<th>type</th>\n",
    "<th>meaning</th>\n",
    "</tr>\n",
    "</thead>\n",
    "<tbody>\n",
    "<tr>\n",
    "<td style=\"text-align:left;\"><code>country_code</code></td>\n",
    "<td>varchar</td>\n",
    "<td>ISO 3166-1 3-letter country code.</td>\n",
    "</tr>\n",
    "<tr>\n",
    "<td style=\"text-align:left;\"><code>country</code></td>\n",
    "<td>varchar</td>\n",
    "<td>Name of the country.</td>\n",
    "</tr>\n",
    "<tr>\n",
    "<td style=\"text-align:left;\"><code>continent</code></td>\n",
    "<td>varchar</td>\n",
    "<td>Name of the continent that the country exists in.</td>\n",
    "</tr>\n",
    "</tbody>\n",
    "</table>\n",
    "<h3 id=\"businesses\"><code>businesses</code></h3>\n",
    "<table>\n",
    "<thead>\n",
    "<tr>\n",
    "<th style=\"text-align:left;\">column</th>\n",
    "<th>type</th>\n",
    "<th>meaning</th>\n",
    "</tr>\n",
    "</thead>\n",
    "<tbody>\n",
    "<tr>\n",
    "<td style=\"text-align:left;\"><code>business</code></td>\n",
    "<td>varchar</td>\n",
    "<td>Name of the business.</td>\n",
    "</tr>\n",
    "<tr>\n",
    "<td style=\"text-align:left;\"><code>year_founded</code></td>\n",
    "<td>int</td>\n",
    "<td>Year the business was founded.</td>\n",
    "</tr>\n",
    "<tr>\n",
    "<td style=\"text-align:left;\"><code>category_code</code></td>\n",
    "<td>varchar</td>\n",
    "<td>Code for the category of the business.</td>\n",
    "</tr>\n",
    "<tr>\n",
    "<td style=\"text-align:left;\"><code>country_code</code></td>\n",
    "<td>char</td>\n",
    "<td>ISO 3166-1 3-letter country code.</td>\n",
    "</tr>\n",
    "</tbody>\n",
    "</table>\n",
    "<p>Let's begin by looking at the range of the founding years throughout the world.</p>"
   ]
  },
  {
   "cell_type": "code",
   "execution_count": 0,
   "metadata": {
    "collapsed": true,
    "dc": {
     "key": "3"
    },
    "tags": [
     "sample_code"
    ]
   },
   "outputs": [],
   "source": [
    "%%sql \n",
    "postgresql:///oldestbusinesses\n",
    " \n",
    "-- Select the oldest and newest founding years from the businesses table\n",
    "..."
   ]
  },
  {
   "cell_type": "code",
   "execution_count": 0,
   "metadata": {
    "collapsed": true,
    "dc": {
     "key": "3"
    },
    "hide": true,
    "tags": [
     "tests"
    ]
   },
   "outputs": [],
   "source": [
    "%%nose\n",
    "last_output = _\n",
    "\n",
    "def test_resultset():\n",
    "    try:\n",
    "        assert str(type(last_output)) == \"<class 'sql.run.ResultSet'>\"\n",
    "    except AssertionError:\n",
    "        assert False, \"Please ensure a SQL ResultSet is the output of the code cell.\" \n",
    "results = last_output.DataFrame()\n",
    "def test_shape():\n",
    "    try:\n",
    "        assert results.shape == (1, 2)\n",
    "    except AssertionError:\n",
    "        assert False, \"The results should have two columns and a single row.\"\n",
    "def test_colnames():\n",
    "    try:\n",
    "        assert results.columns.tolist() == ['min', 'max']\n",
    "    except AssertionError:\n",
    "        assert False, \"The results should have columns named `'min` and `'max'`.\"\n",
    "def test_min_year_founded():\n",
    "    try:\n",
    "        assert results.loc[0, 'min'] == 578\n",
    "    except AssertionError:\n",
    "        assert False, \"The oldest year founded is incorrect.\"\n",
    "def test_max_year_founded():\n",
    "    try:\n",
    "        assert results.loc[0, 'max'] == 1999 \n",
    "    except AssertionError:\n",
    "        assert False, \"The newest year founded is incorrect.\""
   ]
  },
  {
   "cell_type": "markdown",
   "metadata": {
    "dc": {
     "key": "12"
    },
    "deletable": false,
    "editable": false,
    "run_control": {
     "frozen": true
    },
    "tags": [
     "context"
    ]
   },
   "source": [
    "## 2. How many businesses were founded before 1000?\n",
    "<p>Wow! That's a lot of variation between countries. In one country, the oldest business was only founded in 1999. By contrast, the oldest business in the world was founded back in 578. That's pretty incredible that a business has survived for more than a millennium.</p>\n",
    "<p>I wonder how many other businesses there are like that.</p>"
   ]
  },
  {
   "cell_type": "code",
   "execution_count": 0,
   "metadata": {
    "collapsed": true,
    "dc": {
     "key": "12"
    },
    "tags": [
     "sample_code"
    ]
   },
   "outputs": [],
   "source": [
    "%%sql\n",
    "\n",
    "-- Get the count of rows in businesses where the founding year was before 1000\n",
    "..."
   ]
  },
  {
   "cell_type": "code",
   "execution_count": 0,
   "metadata": {
    "collapsed": true,
    "dc": {
     "key": "12"
    },
    "hide": true,
    "tags": [
     "tests"
    ]
   },
   "outputs": [],
   "source": [
    "%%nose\n",
    "last_output = _\n",
    "\n",
    "def test_resultset():\n",
    "    try:\n",
    "        assert str(type(last_output)) == \"<class 'sql.run.ResultSet'>\"\n",
    "    except AssertionError:\n",
    "        assert False, \"Please ensure a SQL ResultSet is the output of the code cell.\" \n",
    "results = last_output.DataFrame()\n",
    "def test_shape():\n",
    "    try:\n",
    "        assert results.shape == (1, 1)\n",
    "    except AssertionError:\n",
    "        assert False, \"The results should have a single column and a single row.\"\n",
    "def test_colnames():\n",
    "    try:\n",
    "        assert results.columns.tolist() == ['count']\n",
    "    except AssertionError:\n",
    "        assert False, \"The results should have a column named `'count`.\"\n",
    "def test_count():\n",
    "    try:\n",
    "        assert last_output.DataFrame().loc[0, 'count'] == 6\n",
    "    except AssertionError:\n",
    "        assert False, \"The count of businesses founded before 1000 is incorrect.\""
   ]
  },
  {
   "cell_type": "markdown",
   "metadata": {
    "dc": {
     "key": "19"
    },
    "deletable": false,
    "editable": false,
    "run_control": {
     "frozen": true
    },
    "tags": [
     "context"
    ]
   },
   "source": [
    "## 3. Which businesses were founded before 1000?\n",
    "<p>Having a count is all very well, but I'd like more detail. Which businesses have been around for more than a millennium?</p>"
   ]
  },
  {
   "cell_type": "code",
   "execution_count": 0,
   "metadata": {
    "collapsed": true,
    "dc": {
     "key": "19"
    },
    "tags": [
     "sample_code"
    ]
   },
   "outputs": [],
   "source": [
    "%%sql\n",
    "\n",
    "-- Select all columns from businesses where the founding year was before 1000\n",
    "-- Arrange the results from oldest to newest\n",
    "..."
   ]
  },
  {
   "cell_type": "code",
   "execution_count": 0,
   "metadata": {
    "collapsed": true,
    "dc": {
     "key": "19"
    },
    "hide": true,
    "tags": [
     "tests"
    ]
   },
   "outputs": [],
   "source": [
    "%%nose\n",
    "last_output = _\n",
    "\n",
    "def test_resultset():\n",
    "    try:\n",
    "        assert str(type(last_output)) == \"<class 'sql.run.ResultSet'>\"\n",
    "    except AssertionError:\n",
    "        assert False, \"Please ensure a SQL ResultSet is the output of the code cell.\" \n",
    "results = last_output.DataFrame()\n",
    "def test_shape():\n",
    "    try:\n",
    "        assert results.shape == (6, 4)\n",
    "    except AssertionError:\n",
    "        assert False, \"The results should have four columns and six rows.\"\n",
    "def test_colnames():\n",
    "    try:\n",
    "        assert results.columns.tolist() == ['business', 'year_founded', 'category_code', 'country_code']\n",
    "    except AssertionError:\n",
    "        assert False, \"The results should have the four columns from the `businesses` table.\"\n",
    "def test_where_year_founded_lt_1000():\n",
    "    try:\n",
    "        assert results.loc[:, 'year_founded'].max() < 1000 \n",
    "    except AssertionError:\n",
    "        assert False, \"The most recent year founded is not before 1000.\"\n",
    "def test_ordered_by_year_founded():\n",
    "    try:\n",
    "        assert results.loc[:, 'year_founded'].is_monotonic \n",
    "    except AssertionError:\n",
    "        assert False, \"The rows are not ordered by increasing year founded.\""
   ]
  },
  {
   "cell_type": "markdown",
   "metadata": {
    "dc": {
     "key": "26"
    },
    "deletable": false,
    "editable": false,
    "run_control": {
     "frozen": true
    },
    "tags": [
     "context"
    ]
   },
   "source": [
    "## 4. Exploring the categories\n",
    "<p>Now we know that the oldest, continuously operating company in the world is called Kongō Gumi. But was does that company do? The category codes in the <code>businesses</code> table aren't very helpful: the descriptions of the categories are stored in the <code>categories</code> table.</p>\n",
    "<p>This is a common problem: for data storage, it's better to keep different types of data in different tables, but for analysis, you want all the data in one place. To solve this, you'll have to join the two tables together.</p>"
   ]
  },
  {
   "cell_type": "code",
   "execution_count": 0,
   "metadata": {
    "collapsed": true,
    "dc": {
     "key": "26"
    },
    "tags": [
     "sample_code"
    ]
   },
   "outputs": [],
   "source": [
    "%%sql\n",
    "\n",
    "-- Select business name, founding year, and country code from businesses; and category from categories\n",
    "-- where the founding year was before 1000, arranged from oldest to newest\n",
    "..."
   ]
  },
  {
   "cell_type": "code",
   "execution_count": 0,
   "metadata": {
    "collapsed": true,
    "dc": {
     "key": "26"
    },
    "hide": true,
    "tags": [
     "tests"
    ]
   },
   "outputs": [],
   "source": [
    "%%nose\n",
    "last_output = _\n",
    "\n",
    "def test_resultset():\n",
    "    try:\n",
    "        assert str(type(last_output)) == \"<class 'sql.run.ResultSet'>\"\n",
    "    except AssertionError:\n",
    "        assert False, \"Please ensure a SQL ResultSet is the output of the code cell.\" \n",
    "results = last_output.DataFrame()\n",
    "def test_shape():\n",
    "    try:\n",
    "        assert results.shape == (6, 4)\n",
    "    except AssertionError:\n",
    "        assert False, \"The results should have four columns and six rows.\"\n",
    "def test_colnames():\n",
    "    try:\n",
    "        assert results.columns.tolist() == ['business', 'year_founded', 'country_code', 'category']\n",
    "    except AssertionError:\n",
    "        assert False, \"The results should have business, year founded, and country code columns from the `businesses` table and category from the `categories` table.\"\n",
    "def test_where_year_founded_lt_1000():\n",
    "    try:\n",
    "        assert results.loc[:, 'year_founded'].max() < 1000 \n",
    "    except AssertionError:\n",
    "        assert False, \"The most recent year founded is not before 1000.\"\n",
    "def test_ordered_by_year_founded():\n",
    "    try:\n",
    "        assert results.loc[:, 'year_founded'].is_monotonic \n",
    "    except AssertionError:\n",
    "        assert False, \"The rows are not ordered by increasing year founded.\""
   ]
  },
  {
   "cell_type": "markdown",
   "metadata": {
    "dc": {
     "key": "33"
    },
    "deletable": false,
    "editable": false,
    "run_control": {
     "frozen": true
    },
    "tags": [
     "context"
    ]
   },
   "source": [
    "## 5. Counting the categories\n",
    "<p>With that extra detail about the oldest businesses, we can see that Kongō Gumi is a construction company. In that list of six businesses, we also see a café, a winery, and a bar. The two companies recorded as \"Manufacturing and Production\" are both mints. That is, they produce currency.</p>\n",
    "<p>I'm curious as to what other industries constitute the oldest companies around the world, and which industries are most common.</p>"
   ]
  },
  {
   "cell_type": "code",
   "execution_count": 0,
   "metadata": {
    "collapsed": true,
    "dc": {
     "key": "33"
    },
    "tags": [
     "sample_code"
    ]
   },
   "outputs": [],
   "source": [
    "%%sql\n",
    "\n",
    "-- Select the category and count of category (as \"n\")\n",
    "-- arranged by descending count, limited to 10 most common categories\n",
    "..."
   ]
  },
  {
   "cell_type": "code",
   "execution_count": 0,
   "metadata": {
    "collapsed": true,
    "dc": {
     "key": "33"
    },
    "hide": true,
    "tags": [
     "tests"
    ]
   },
   "outputs": [],
   "source": [
    "%%nose\n",
    "last_output = _\n",
    "\n",
    "def test_resultset():\n",
    "    try:\n",
    "        assert str(type(last_output)) == \"<class 'sql.run.ResultSet'>\"\n",
    "    except AssertionError:\n",
    "        assert False, \"Please ensure a SQL ResultSet is the output of the code cell.\" \n",
    "results = last_output.DataFrame()\n",
    "def test_shape():\n",
    "    try:\n",
    "        assert results.shape == (10, 2)\n",
    "    except AssertionError:\n",
    "        assert False, \"The results should have two columns and ten rows.\"\n",
    "def test_colnames():\n",
    "    try:\n",
    "        assert results.columns.tolist() == ['category', 'n']\n",
    "    except AssertionError:\n",
    "        assert False, \"The results should have a category column and a count column named `'n'`.\"\n",
    "def test_ordered_by_desc_n():\n",
    "    try:\n",
    "        assert results.loc[:, 'n'].is_monotonic_decreasing\n",
    "    except AssertionError:\n",
    "        assert False, \"The rows are not ordered by descending count.\"\n",
    "def test_count():\n",
    "    try:\n",
    "        assert results.loc[:, 'n'].values.tolist() == [37, 22, 19, 16, 15, 7, 6, 6, 6, 4]\n",
    "    except AssertionError:\n",
    "        assert False, \"The category counts are not correct.\""
   ]
  },
  {
   "cell_type": "markdown",
   "metadata": {
    "dc": {
     "key": "40"
    },
    "deletable": false,
    "editable": false,
    "run_control": {
     "frozen": true
    },
    "tags": [
     "context"
    ]
   },
   "source": [
    "## 6. Oldest business by continent\n",
    "<p>It looks like \"Banking &amp; Finance\" is the most popular category. Maybe that's where you should aim if you want to start a thousand-year business.</p>\n",
    "<p>One thing we haven't looked at yet is where in the world these really old businesses are. To answer these questions, we'll need to join the <code>businesses</code> table to the <code>countries</code> table. Let's start by asking how old the oldest business is on each continent.</p>"
   ]
  },
  {
   "cell_type": "code",
   "execution_count": 0,
   "metadata": {
    "collapsed": true,
    "dc": {
     "key": "40"
    },
    "tags": [
     "sample_code"
    ]
   },
   "outputs": [],
   "source": [
    "%%sql\n",
    "\n",
    "-- Select the oldest founding year (as \"oldest\") from businesses, \n",
    "-- and continent from countries\n",
    "-- for each continent, ordered from oldest to newest \n",
    "..."
   ]
  },
  {
   "cell_type": "code",
   "execution_count": 0,
   "metadata": {
    "collapsed": true,
    "dc": {
     "key": "40"
    },
    "hide": true,
    "tags": [
     "tests"
    ]
   },
   "outputs": [],
   "source": [
    "%%nose\n",
    "last_output = _\n",
    "\n",
    "def test_resultset():\n",
    "    try:\n",
    "        assert str(type(last_output)) == \"<class 'sql.run.ResultSet'>\"\n",
    "    except AssertionError:\n",
    "        assert False, \"Please ensure a SQL ResultSet is the output of the code cell.\" \n",
    "results = last_output.DataFrame()\n",
    "def test_shape():\n",
    "    try:\n",
    "        assert results.shape == (6, 2)\n",
    "    except AssertionError:\n",
    "        assert False, \"The results should have two columns and six rows.\"\n",
    "def test_colnames():\n",
    "    try:\n",
    "        assert results.columns.tolist() == ['oldest', 'continent']\n",
    "    except AssertionError:\n",
    "        assert False, \"The results should have columns named oldest, and continent.\"\n",
    "def test_ordered_by_min_year_founded():\n",
    "    try:\n",
    "        assert results.loc[:, 'oldest'].is_monotonic \n",
    "    except AssertionError:\n",
    "        assert False, \"The rows are not ordered by year founded.\"\n",
    "def test_count():\n",
    "    try:\n",
    "        assert results.loc[:, 'oldest'].values.tolist() == [578, 803, 1534, 1565, 1772, 1809]\n",
    "    except AssertionError:\n",
    "        assert False, \"The year founded values are not correct.\""
   ]
  },
  {
   "cell_type": "markdown",
   "metadata": {
    "dc": {
     "key": "47"
    },
    "deletable": false,
    "editable": false,
    "run_control": {
     "frozen": true
    },
    "tags": [
     "context"
    ]
   },
   "source": [
    "## 7. Joining everything for further analysis\n",
    "<p>Interesting. There's a jump in time from the older businesses in Asia and Europe to the 16th Century oldest businesses in North and South America, then to the 18th and 19th Century oldest businesses in Africa and Oceania. </p>\n",
    "<p>As mentioned earlier, when analyzing data it's often really helpful to have all the tables you want access to joined together into a single set of results that can be analyzed further. Here, that means we need to join all three tables.</p>"
   ]
  },
  {
   "cell_type": "code",
   "execution_count": 0,
   "metadata": {
    "collapsed": true,
    "dc": {
     "key": "47"
    },
    "tags": [
     "sample_code"
    ]
   },
   "outputs": [],
   "source": [
    "%%sql\n",
    "\n",
    "-- Select the business, founding year, category, country, and continent\n",
    "..."
   ]
  },
  {
   "cell_type": "code",
   "execution_count": 0,
   "metadata": {
    "collapsed": true,
    "dc": {
     "key": "47"
    },
    "hide": true,
    "tags": [
     "tests"
    ]
   },
   "outputs": [],
   "source": [
    "%%nose\n",
    "last_output = _\n",
    "\n",
    "def test_resultset():\n",
    "    try:\n",
    "        assert str(type(last_output)) == \"<class 'sql.run.ResultSet'>\"\n",
    "    except AssertionError:\n",
    "        assert False, \"Please ensure a SQL ResultSet is the output of the code cell.\" \n",
    "results = last_output.DataFrame()\n",
    "def test_shape():\n",
    "    try:\n",
    "        assert results.shape == (163, 5)\n",
    "    except AssertionError:\n",
    "        assert False, \"The results should have five columns and one hundred and sixty three rows.\"\n",
    "def test_colnames():\n",
    "    try:\n",
    "        assert results.columns.tolist() == ['business', 'year_founded', 'category', 'country', 'continent']\n",
    "    except AssertionError:\n",
    "        assert False, \"The results should have columns named business, year_founded, category, country, and continent.\"  "
   ]
  },
  {
   "cell_type": "markdown",
   "metadata": {
    "dc": {
     "key": "54"
    },
    "deletable": false,
    "editable": false,
    "run_control": {
     "frozen": true
    },
    "tags": [
     "context"
    ]
   },
   "source": [
    "## 8. Counting categories by continent\n",
    "<p>Having <code>businesses</code> joined to <code>categories</code> and <code>countries</code> together means we can ask questions about both these things together. For example, which are the most common categories for the oldest businesses on each continent?</p>"
   ]
  },
  {
   "cell_type": "code",
   "execution_count": 0,
   "metadata": {
    "collapsed": true,
    "dc": {
     "key": "54"
    },
    "tags": [
     "sample_code"
    ]
   },
   "outputs": [],
   "source": [
    "%%sql\n",
    "\n",
    "-- Count the number of businesses in each continent and category\n",
    "..."
   ]
  },
  {
   "cell_type": "code",
   "execution_count": 0,
   "metadata": {
    "collapsed": true,
    "dc": {
     "key": "54"
    },
    "hide": true,
    "tags": [
     "tests"
    ]
   },
   "outputs": [],
   "source": [
    "%%nose\n",
    "last_output = _\n",
    "\n",
    "def test_resultset():\n",
    "    try:\n",
    "        assert str(type(last_output)) == \"<class 'sql.run.ResultSet'>\"\n",
    "    except AssertionError:\n",
    "        assert False, \"Please ensure a SQL ResultSet is the output of the code cell.\" \n",
    "results = last_output.DataFrame()\n",
    "def test_shape():\n",
    "    try:\n",
    "        assert results.shape == (56, 3)\n",
    "    except AssertionError:\n",
    "        assert False, \"The results should have three columns and fifty six rows.\"\n",
    "def test_colnames():\n",
    "    try:\n",
    "        assert results.columns.tolist() == ['continent', 'category', 'n']\n",
    "    except AssertionError:\n",
    "        assert False, \"The results should have continent, category, and count (as 'n').\"\n",
    "def test_count():\n",
    "    try:\n",
    "        assert results.loc[:, 'n'].sort_values(ascending=False).values.tolist() == [17, 12, 10, 9, 8, 7, 6, 5, 5, 4, 4, 4, 3, 3, 3, 3, 3, 3, 3, 3, 3, 2, 2, 2, 2, 2, 2, 2, 2, 2, 2, 1, 1, 1, 1, 1, 1, 1, 1, 1, 1, 1, 1, 1, 1, 1, 1, 1, 1, 1, 1, 1, 1, 1, 1, 1]\n",
    "    except AssertionError:\n",
    "        assert False, \"The counts are not correct.\""
   ]
  },
  {
   "cell_type": "markdown",
   "metadata": {
    "dc": {
     "key": "61"
    },
    "deletable": false,
    "editable": false,
    "run_control": {
     "frozen": true
    },
    "tags": [
     "context"
    ]
   },
   "source": [
    "## 9. Filtering counts by continent and category\n",
    "<p>Combining continent and business category led to a lot of results. It's difficult to see what is important. To trim this down to a manageable size, let's restrict the results to only continent/category pairs with a high count.</p>"
   ]
  },
  {
   "cell_type": "code",
   "execution_count": 0,
   "metadata": {
    "collapsed": true,
    "dc": {
     "key": "61"
    },
    "tags": [
     "sample_code"
    ]
   },
   "outputs": [],
   "source": [
    "%%sql\n",
    "\n",
    "-- Repeat that previous query, filtering for results having a count greater than 5\n",
    "..."
   ]
  },
  {
   "cell_type": "code",
   "execution_count": 0,
   "metadata": {
    "collapsed": true,
    "dc": {
     "key": "61"
    },
    "hide": true,
    "tags": [
     "tests"
    ]
   },
   "outputs": [],
   "source": [
    "%%nose\n",
    "last_output = _\n",
    "\n",
    "def test_resultset():\n",
    "    try:\n",
    "        assert str(type(last_output)) == \"<class 'sql.run.ResultSet'>\"\n",
    "    except AssertionError:\n",
    "        assert False, \"Please ensure a SQL ResultSet is the output of the code cell.\" \n",
    "results = last_output.DataFrame()\n",
    "def test_shape():\n",
    "    try:\n",
    "        assert results.shape == (7, 3)\n",
    "    except AssertionError:\n",
    "        assert False, \"The results should have three columns and seven rows.\"\n",
    "def test_colnames():\n",
    "    try:\n",
    "        assert results.columns.tolist() == ['continent', 'category', 'n']\n",
    "    except AssertionError:\n",
    "        assert False, \"The results should have continent, category, and count (as 'n').\"\n",
    "def test_count():\n",
    "    try:\n",
    "        assert results.loc[:, 'n'].values.tolist() == [17, 12, 10, 9, 8, 7, 6]\n",
    "    except AssertionError:\n",
    "        assert False, \"The counts are not correct.\""
   ]
  }
 ],
 "metadata": {
  "kernelspec": {
   "display_name": "Python 3",
   "language": "python",
   "name": "python3"
  },
  "language_info": {
   "codemirror_mode": {
    "name": "ipython",
    "version": 3
   },
   "file_extension": ".py",
   "mimetype": "text/x-python",
   "name": "python",
   "nbconvert_exporter": "python",
   "pygments_lexer": "ipython3",
   "version": "3.8.5"
  },
  "toc": {
   "base_numbering": 1,
   "nav_menu": {},
   "number_sections": true,
   "sideBar": true,
   "skip_h1_title": false,
   "title_cell": "Table of Contents",
   "title_sidebar": "Contents",
   "toc_cell": false,
   "toc_position": {},
   "toc_section_display": true,
   "toc_window_display": false
  },
  "varInspector": {
   "cols": {
    "lenName": 16,
    "lenType": 16,
    "lenVar": 40
   },
   "kernels_config": {
    "python": {
     "delete_cmd_postfix": "",
     "delete_cmd_prefix": "del ",
     "library": "var_list.py",
     "varRefreshCmd": "print(var_dic_list())"
    },
    "r": {
     "delete_cmd_postfix": ") ",
     "delete_cmd_prefix": "rm(",
     "library": "var_list.r",
     "varRefreshCmd": "cat(var_dic_list()) "
    }
   },
   "types_to_exclude": [
    "module",
    "function",
    "builtin_function_or_method",
    "instance",
    "_Feature"
   ],
   "window_display": false
  }
 },
 "nbformat": 4,
 "nbformat_minor": 2
}
